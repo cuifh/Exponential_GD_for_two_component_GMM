{
 "cells": [
  {
   "cell_type": "code",
   "execution_count": 1,
   "metadata": {
    "id": "98vuKphvFdqf"
   },
   "outputs": [],
   "source": [
    "import numpy as np\n",
    "import scipy as sp\n",
    "from scipy.stats import norm\n",
    "import scipy.stats as stats\n",
    "import matplotlib.pyplot as plt\n",
    "from tqdm import tqdm\n",
    "from joblib import Parallel, delayed\n",
    "M=3 #Model 3"
   ]
  },
  {
   "cell_type": "code",
   "execution_count": 2,
   "metadata": {
    "id": "VN01y0BZFpjv"
   },
   "outputs": [],
   "source": [
    "#def draw_samp(n,theta,sigma,seed=16):\n",
    "#    np.random.seed(seed)\n",
    "#    ind_clus=np.diag(np.sign(np.random.uniform(low=0.0, high=1.0, size=n)-0.5))\n",
    "#    samp=np.random.normal(ind_clus@np.repeat(theta,n,axis=0),np.repeat(sigma,n,axis=0))\n",
    "#    return samp"
   ]
  },
  {
   "cell_type": "code",
   "execution_count": 3,
   "metadata": {},
   "outputs": [],
   "source": [
    "def draw_samp(n,theta,sigma,seed=1):\n",
    "    np.random.seed(seed)\n",
    "    samp=np.random.normal(size=(n,np.size(theta)))\n",
    "    return samp"
   ]
  },
  {
   "cell_type": "code",
   "execution_count": 4,
   "metadata": {
    "colab": {
     "base_uri": "https://localhost:8080/",
     "height": 282
    },
    "id": "KqNmjZQ1FsSs",
    "outputId": "f17dfd2b-ad36-4e6a-aa19-03784aad7cad"
   },
   "outputs": [
    {
     "data": {
      "text/plain": [
       "<matplotlib.collections.PathCollection at 0x7f8441fa6790>"
      ]
     },
     "execution_count": 4,
     "metadata": {},
     "output_type": "execute_result"
    },
    {
     "data": {
      "image/png": "[encoded data removed]",
      "text/plain": [
       "<Figure size 432x288 with 1 Axes>"
      ]
     },
     "metadata": {
      "needs_background": "light"
     },
     "output_type": "display_data"
    }
   ],
   "source": [
    "kkk=draw_samp(20000,np.array([[3,2]]),np.array([[1,1]]))\n",
    "#kkk=draw_samp(2000,np.array([[0,0]]),np.array([[1,1]]))\n",
    "plt.scatter(kkk[:,0],kkk[:,1])"
   ]
  },
  {
   "cell_type": "code",
   "execution_count": 5,
   "metadata": {
    "id": "lrwOlkifFui7"
   },
   "outputs": [],
   "source": [
    "def normal_pdfs(samp,theta,sigma):\n",
    "\n",
    "    d=np.size(theta)\n",
    "    n=np.shape(samp)[0]\n",
    "    theta=np.repeat(theta,n,axis=0)\n",
    "    sigma=np.repeat(sigma,n,axis=0)\n",
    "    log_pdf_pos=np.sum(norm.logpdf(samp,theta,sigma),axis=1)\n",
    "    log_pdf_neg=np.sum(norm.logpdf(samp,-theta,sigma),axis=1)\n",
    "    pdf_pos=np.reshape(np.exp(log_pdf_pos),(n,1))\n",
    "    pdf_neg=np.reshape(np.exp(log_pdf_neg),(n,1))\n",
    "\n",
    "    \n",
    "    return pdf_pos, pdf_neg\n",
    "\n",
    "\n",
    "def L(samp,theta,sigma,pdf_pos,pdf_neg):\n",
    "    \"\"\"\n",
    "    L_value\n",
    "    theta:mean\n",
    "    nu: precision\n",
    "    \"\"\"\n",
    "    #samp=draw_samp(100,theta_star,sigma_star)\n",
    "    d=np.size(theta)\n",
    "    n=np.shape(samp)[0]\n",
    "    theta=np.repeat(theta,n,axis=0)\n",
    "    sigma=np.repeat(sigma,n,axis=0)\n",
    "    \n",
    "    L_val=np.mean(np.log(0.5*pdf_pos+0.5*pdf_neg))\n",
    "    \n",
    "    return L_val\n",
    "\n",
    "\n",
    "\n",
    "def dL_theta(samp,theta,sigma,pdf_pos,pdf_neg):\n",
    "    \"\"\"\n",
    "    derivative of theta\n",
    "    theta:mean\n",
    "    nu: precision\n",
    "    \"\"\"\n",
    "    #samp=draw_samp(100,theta_star,sigma_star)\n",
    "    d=np.size(theta)\n",
    "    n=np.shape(samp)[0]\n",
    "    theta=np.repeat(theta,n,axis=0)\n",
    "    sigma=np.repeat(sigma,n,axis=0)\n",
    "    \n",
    "    nomi=0.5*pdf_pos*(-(theta-samp)/(sigma**2))+0.5*pdf_neg*(-(theta+samp)/(sigma**2))\n",
    "    deno1=(0.5*pdf_pos+0.5*pdf_neg)\n",
    "    #deno2=np.reshape(deno1,(n,1))\n",
    "    deno=np.repeat(deno1,d,axis=1)\n",
    "    res=np.mean(nomi/deno,axis=0)\n",
    "    \n",
    "    return res\n",
    "\n",
    "def dL_sigma_theta(samp,theta,sigma,pdf_pos,pdf_neg):\n",
    "    \"\"\"\n",
    "    dL_sigma*dsigma_theta\n",
    "    theta:mean\n",
    "    nu: precision\n",
    "    \"\"\"\n",
    "    #samp=draw_samp(100,theta_star,sigma_star)\n",
    "    d=np.size(theta)\n",
    "    n=np.shape(samp)[0]\n",
    "    theta=np.repeat(theta,n,axis=0)\n",
    "    sigma=np.repeat(sigma,n,axis=0)\n",
    "    \n",
    "    nomi_pos=-pdf_pos/sigma+pdf_pos*(samp-theta)**2/(sigma**3)\n",
    "    nomi_neg=-pdf_neg/sigma+pdf_neg*(samp+theta)**2/(sigma**3)\n",
    "    nomi=0.5*nomi_pos+0.5*nomi_neg\n",
    "    deno1=(0.5*pdf_pos+0.5*pdf_neg)\n",
    "    deno=np.repeat(deno1,d,axis=1)\n",
    "    \n",
    "    dsigma_theta=-theta/sigma\n",
    "    \n",
    "    res=np.mean(nomi/deno*dsigma_theta,axis=0)\n",
    "    \n",
    "    return res\n",
    "\n",
    "\n"
   ]
  },
  {
   "cell_type": "code",
   "execution_count": 6,
   "metadata": {
    "id": "6xfbJjAbFulo"
   },
   "outputs": [],
   "source": [
    "def adaEGD(iteration,theta0,theta_star,sigma_star,eta,beta,samp):\n",
    "    \n",
    "    theta=theta0\n",
    "    theta_hat=theta\n",
    "    \n",
    "    centered_samp=samp-samp.mean(axis=0)\n",
    "    samp_square_average=np.mean(centered_samp**2,axis=0).reshape(1,np.size(theta0))\n",
    "    \n",
    "    sigma=np.sqrt(samp_square_average-theta**2)\n",
    "    \n",
    "    DIFF_theta=np.array([])\n",
    "    DIFF_sigma=np.array([])\n",
    "    \n",
    "    pdf_pos,pdf_neg=normal_pdfs(samp,theta,sigma)\n",
    "    L1=L(samp,theta,sigma,pdf_pos,pdf_neg)\n",
    "    optimal_iter=-1\n",
    "    \n",
    "    \n",
    "    \n",
    "    for i in tqdm(range(iteration)):\n",
    "        \n",
    "        DIFF_theta=np.append(DIFF_theta,np.linalg.norm(theta-theta_star))\n",
    "        #DIFF_theta=np.append(DIFF_theta,np.linalg.norm(theta-theta_hat))\n",
    "        DIFF_sigma=np.append(DIFF_sigma,np.linalg.norm(sigma-sigma_star))\n",
    "        \n",
    "        \n",
    "        pdf_pos,pdf_neg=normal_pdfs(samp,theta,sigma)\n",
    "        DLN_theta=dL_theta(samp,theta,sigma,pdf_pos,pdf_neg)+dL_sigma_theta(samp,theta,sigma,pdf_pos,pdf_neg)\n",
    "    \n",
    "        theta=theta+eta/(beta**i)*DLN_theta\n",
    "        sigma=np.sqrt(samp_square_average-theta**2)\n",
    "        \n",
    "        L2=L(samp,theta,sigma,pdf_pos,pdf_neg)\n",
    "        \n",
    "        if L2>L1:\n",
    "            theta_hat=theta\n",
    "            L1=L2\n",
    "            optimal_iter=i\n",
    "        \n",
    "    return DIFF_theta, DIFF_sigma,theta_hat,optimal_iter"
   ]
  },
  {
   "cell_type": "code",
   "execution_count": 7,
   "metadata": {},
   "outputs": [],
   "source": [
    "def main(n_samp, iteration_base, theta0, beta, eta, seed):\n",
    "\n",
    "    d=np.size(theta0)\n",
    "\n",
    "    samp=draw_samp(n_samp,theta_star,sigma_star,seed)\n",
    "    iteration=int(np.ceil(iteration_base*np.log(n_samp)))\n",
    "    DIFF_adagrad_theta,DIFF_adagrad_sigma,theta_hat,optimal_iter=adaEGD(iteration,theta0,theta_star,sigma_star,eta,beta,samp)\n",
    "    DIFF_GD_theta,DIFF_GD_sigma,theta_hat_GD,optimal_iter_GD=adaEGD(iteration,theta0,theta_star,sigma_star,eta,1,samp)\n",
    "    Stat_rad_theta=np.nanmin(DIFF_adagrad_theta)\n",
    "    Stat_rad_theta_GD=np.nanmin(DIFF_GD_theta)\n",
    "    Stat_rad_sigma=np.nanmin(DIFF_adagrad_sigma)\n",
    "    Stat_rad_sigma_GD=np.nanmin(DIFF_GD_sigma)\n",
    "        \n",
    "    return Stat_rad_theta, Stat_rad_theta_GD, Stat_rad_sigma, Stat_rad_sigma_GD"
   ]
  },
  {
   "cell_type": "code",
   "execution_count": 8,
   "metadata": {
    "id": "_trs6VpxFuof"
   },
   "outputs": [],
   "source": [
    "theta_star=np.array([[0,0,0]])\n",
    "sigma_star=np.array([[1,1,1]])\n",
    "\n",
    "theta_star=np.array([[0,0]])\n",
    "sigma_star=np.array([[1,1]])\n",
    "\n",
    "#theta_star=np.array([[0]])\n",
    "#sigma_star=np.array([[1]])"
   ]
  },
  {
   "cell_type": "code",
   "execution_count": 9,
   "metadata": {},
   "outputs": [],
   "source": [
    "seed=2\n",
    "iteration_base=100\n",
    "#experiment_repeat_times=10\n",
    "    \n",
    "theta0=np.array([[0.1,0.1,0.1]]) #initial\n",
    "theta0=np.array([[0.3,0.3]]) #initial\n",
    "#theta0=np.array([[0.3]]) #initial\n",
    "\n",
    "\n",
    "beta=0.995\n",
    "eta=0.005"
   ]
  },
  {
   "cell_type": "code",
   "execution_count": 10,
   "metadata": {},
   "outputs": [],
   "source": [
    "n_samp=np.array([np.ceil(np.exp(11.5)),np.ceil(np.exp(12)),np.ceil(np.exp(12.5)),np.ceil(np.exp(13)),np.ceil(np.exp(14)),np.ceil(np.exp(15))],dtype=int)\n",
    "#n_samp=np.array([np.ceil(np.exp(1)),np.ceil(np.exp(2)),np.ceil(np.exp(3)),np.ceil(np.exp(4)),np.ceil(np.exp(5)),np.ceil(np.exp(6))],dtype=int)\n",
    "\n",
    "\n",
    "experiment_repeat_times=np.size(n_samp)\n",
    "\n",
    "d=np.size(theta0)\n",
    "\n",
    "\n",
    "temp=Parallel(n_jobs=experiment_repeat_times)(delayed(main)(N_samp, iteration_base, theta0, beta, eta, seed) for N_samp in n_samp)\n"
   ]
  },
  {
   "cell_type": "code",
   "execution_count": 11,
   "metadata": {},
   "outputs": [],
   "source": [
    "stat_rad_theta,stat_rad_theta_GD,stat_rad_sigma,stat_rad_sigma_GD=zip(*temp)"
   ]
  },
  {
   "cell_type": "code",
   "execution_count": 12,
   "metadata": {},
   "outputs": [],
   "source": [
    "gmm_data = {'stat_rad_theta':stat_rad_theta,\n",
    "            'stat_rad_theta_GD':stat_rad_theta_GD,\n",
    "            'stat_rad_sigma':stat_rad_sigma,\n",
    "            'stat_rad_sigma_GD':stat_rad_sigma_GD,\n",
    "            'theta0':theta0,\n",
    "            'beta':beta,\n",
    "            'eta':eta,\n",
    "            'd':d,\n",
    "            'theta_star':theta_star,\n",
    "            'sigma_star':sigma_star,\n",
    "            'M':M,\n",
    "            \"iteration_base\":iteration_base,\n",
    "            \"experiment_repeat_times\":experiment_repeat_times,\n",
    "            \"seed\":seed}\n",
    "np.save('./sim_data/M3_iter_fixed_iterbase{}_seed{}_dim{}_repeat{}_eta{}_beta{}_paral'.format(iteration_base,seed,d,experiment_repeat_times,eta,beta),gmm_data)"
   ]
  },
  {
   "cell_type": "code",
   "execution_count": 13,
   "metadata": {},
   "outputs": [
    {
     "data": {
      "text/plain": [
       "Text(0, 0.5, 'log ||theta-theta*||')"
      ]
     },
     "execution_count": 13,
     "metadata": {},
     "output_type": "execute_result"
    },
    {
     "data": {
      "image/png": "[encoded data removed]",
      "text/plain": [
       "<Figure size 432x288 with 1 Axes>"
      ]
     },
     "metadata": {
      "needs_background": "light"
     },
     "output_type": "display_data"
    }
   ],
   "source": [
    "plt.plot(np.log(n_samp), np.log(stat_rad_theta), label='AdaEGD, eta={eta:.3f},beta={beta:.3f}'.format(eta=eta,beta=beta))\n",
    "plt.plot(np.log(n_samp), np.log(stat_rad_theta_GD), label='AdaEGD, eta={eta:.3f},beta={beta:.3f}'.format(eta=eta,beta=beta))\n",
    "plt.legend()\n",
    "plt.xlabel('Iteration')\n",
    "plt.ylabel('log ||theta-theta*||')"
   ]
  },
  {
   "cell_type": "code",
   "execution_count": 14,
   "metadata": {},
   "outputs": [
    {
     "data": {
      "text/plain": [
       "Text(0, 0.5, 'log ||sigma-sigma*||')"
      ]
     },
     "execution_count": 14,
     "metadata": {},
     "output_type": "execute_result"
    },
    {
     "data": {
      "image/png": "[encoded data removed]",
      "text/plain": [
       "<Figure size 432x288 with 1 Axes>"
      ]
     },
     "metadata": {
      "needs_background": "light"
     },
     "output_type": "display_data"
    }
   ],
   "source": [
    "plt.plot(np.log(n_samp), np.log(stat_rad_sigma), label='AdaEGD, eta={eta:.3f},beta={beta:.3f}'.format(eta=eta,beta=beta))\n",
    "plt.plot(np.log(n_samp), np.log(stat_rad_sigma_GD), label='AdaEGD, eta={eta:.3f},beta={beta:.3f}'.format(eta=eta,beta=beta))\n",
    "plt.legend()\n",
    "plt.xlabel('Iteration')\n",
    "plt.ylabel('log ||sigma-sigma*||')"
   ]
  },
  {
   "cell_type": "code",
   "execution_count": 15,
   "metadata": {},
   "outputs": [
    {
     "data": {
      "text/plain": [
       "LinregressResult(slope=-0.28686190969094877, intercept=1.2266556400042146, rvalue=-0.9313582058864159, pvalue=0.006905834218780484, stderr=0.05607275207411324)"
      ]
     },
     "execution_count": 15,
     "metadata": {},
     "output_type": "execute_result"
    }
   ],
   "source": [
    "stats.linregress(np.log(n_samp[:]),np.log(stat_rad_theta[:]))"
   ]
  },
  {
   "cell_type": "code",
   "execution_count": 16,
   "metadata": {},
   "outputs": [
    {
     "data": {
      "text/plain": [
       "LinregressResult(slope=-0.02586101783959542, intercept=-0.9012515303079026, rvalue=-0.9917300347258796, pvalue=0.00010230568737372599, stderr=0.0016733594138911684)"
      ]
     },
     "execution_count": 16,
     "metadata": {},
     "output_type": "execute_result"
    }
   ],
   "source": [
    "stats.linregress(np.log(n_samp[:]),np.log(stat_rad_theta_GD[:]))"
   ]
  },
  {
   "cell_type": "code",
   "execution_count": 17,
   "metadata": {},
   "outputs": [
    {
     "data": {
      "text/plain": [
       "LinregressResult(slope=-0.6748579833253908, intercept=3.1248435128106413, rvalue=-0.9406910710751065, pvalue=0.005172012542022498, stderr=0.12169524706986956)"
      ]
     },
     "execution_count": 17,
     "metadata": {},
     "output_type": "execute_result"
    }
   ],
   "source": [
    "stats.linregress(np.log(n_samp[:]),np.log(stat_rad_sigma[:]))"
   ]
  },
  {
   "cell_type": "code",
   "execution_count": 18,
   "metadata": {},
   "outputs": [
    {
     "data": {
      "text/plain": [
       "LinregressResult(slope=-0.07693788878190204, intercept=-2.4521329225326634, rvalue=-0.9639200588922973, pvalue=0.0019291594746427805, stderr=0.010623412966299619)"
      ]
     },
     "execution_count": 18,
     "metadata": {},
     "output_type": "execute_result"
    }
   ],
   "source": [
    "stats.linregress(np.log(n_samp[:]),np.log(stat_rad_sigma_GD[:]))"
   ]
  },
  {
   "cell_type": "code",
   "execution_count": null,
   "metadata": {},
   "outputs": [],
   "source": []
  },
  {
   "cell_type": "code",
   "execution_count": null,
   "metadata": {},
   "outputs": [],
   "source": []
  }
 ],
 "metadata": {
  "colab": {
   "name": "Adagrad_GD_M2_high_dim_hetero_faster_using.ipynb",
   "provenance": [],
   "toc_visible": true
  },
  "kernelspec": {
   "display_name": "Python 3",
   "language": "python",
   "name": "python3"
  },
  "language_info": {
   "codemirror_mode": {
    "name": "ipython",
    "version": 3
   },
   "file_extension": ".py",
   "mimetype": "text/x-python",
   "name": "python",
   "nbconvert_exporter": "python",
   "pygments_lexer": "ipython3",
   "version": "3.7.6"
  }
 },
 "nbformat": 4,
 "nbformat_minor": 1
}
