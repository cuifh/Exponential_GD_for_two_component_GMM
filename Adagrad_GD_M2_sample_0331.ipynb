{
 "cells": [
  {
   "cell_type": "code",
   "execution_count": 1,
   "metadata": {
    "id": "98vuKphvFdqf"
   },
   "outputs": [],
   "source": [
    "import numpy as np\n",
    "import scipy as sp\n",
    "from scipy.stats import norm\n",
    "import matplotlib.pyplot as plt\n",
    "from tqdm import tqdm\n",
    "M=2 #Model 2"
   ]
  },
  {
   "cell_type": "code",
   "execution_count": 2,
   "metadata": {
    "id": "VN01y0BZFpjv"
   },
   "outputs": [],
   "source": [
    "#def draw_samp(n,theta,sigma,seed=16):\n",
    "#    np.random.seed(seed)\n",
    "#    ind_clus=np.diag(np.sign(np.random.uniform(low=0.0, high=1.0, size=n)-0.5))\n",
    "#    samp=np.random.normal(ind_clus@np.repeat(theta,n,axis=0),np.repeat(sigma,n,axis=0))\n",
    "#    return samp"
   ]
  },
  {
   "cell_type": "code",
   "execution_count": 3,
   "metadata": {},
   "outputs": [],
   "source": [
    "def draw_samp(n,theta,sigma,seed=1):\n",
    "    np.random.seed(seed)\n",
    "    samp=np.random.normal(size=(n,np.size(theta)))\n",
    "    return samp"
   ]
  },
  {
   "cell_type": "code",
   "execution_count": 4,
   "metadata": {
    "colab": {
     "base_uri": "https://localhost:8080/",
     "height": 282
    },
    "id": "KqNmjZQ1FsSs",
    "outputId": "f17dfd2b-ad36-4e6a-aa19-03784aad7cad"
   },
   "outputs": [
    {
     "data": {
      "text/plain": [
       "<matplotlib.collections.PathCollection at 0x7fed8719a750>"
      ]
     },
     "execution_count": 4,
     "metadata": {},
     "output_type": "execute_result"
    },
    {
     "data": {
      "image/png": "[encoded data removed]",
      "text/plain": [
       "<Figure size 432x288 with 1 Axes>"
      ]
     },
     "metadata": {
      "needs_background": "light"
     },
     "output_type": "display_data"
    }
   ],
   "source": [
    "kkk=draw_samp(20000,np.array([[3,2]]),np.array([[1,1]]))\n",
    "#kkk=draw_samp(2000,np.array([[0,0]]),np.array([[1,1]]))\n",
    "plt.scatter(kkk[:,0],kkk[:,1])"
   ]
  },
  {
   "cell_type": "code",
   "execution_count": 5,
   "metadata": {
    "id": "lrwOlkifFui7"
   },
   "outputs": [],
   "source": [
    "def normal_pdfs(samp,theta,sigma):\n",
    "\n",
    "    d=np.size(theta)\n",
    "    n=np.shape(samp)[0]\n",
    "    theta=np.repeat(theta,n,axis=0)\n",
    "    sigma=np.repeat(sigma,n,axis=0)\n",
    "    log_pdf_pos=np.sum(norm.logpdf(samp,theta,sigma),axis=1)\n",
    "    log_pdf_neg=np.sum(norm.logpdf(samp,-theta,sigma),axis=1)\n",
    "    pdf_pos=np.reshape(np.exp(log_pdf_pos),(n,1))\n",
    "    pdf_neg=np.reshape(np.exp(log_pdf_neg),(n,1))\n",
    "\n",
    "    \n",
    "    return pdf_pos, pdf_neg\n",
    "\n",
    "\n",
    "def L(samp,theta,sigma,pdf_pos,pdf_neg):\n",
    "    \"\"\"\n",
    "    L_value\n",
    "    theta:mean\n",
    "    nu: precision\n",
    "    \"\"\"\n",
    "    #samp=draw_samp(100,theta_star,sigma_star)\n",
    "    d=np.size(theta)\n",
    "    n=np.shape(samp)[0]\n",
    "    theta=np.repeat(theta,n,axis=0)\n",
    "    sigma=np.repeat(sigma,n,axis=0)\n",
    "    \n",
    "    L_val=np.mean(np.log(0.5*pdf_pos+0.5*pdf_neg))\n",
    "    \n",
    "    return L_val\n",
    "\n",
    "\n",
    "\n",
    "def dL_theta(samp,theta,sigma,pdf_pos,pdf_neg):\n",
    "    \"\"\"\n",
    "    derivative of theta\n",
    "    theta:mean\n",
    "    nu: precision\n",
    "    \"\"\"\n",
    "    #samp=draw_samp(100,theta_star,sigma_star)\n",
    "    d=np.size(theta)\n",
    "    n=np.shape(samp)[0]\n",
    "    theta=np.repeat(theta,n,axis=0)\n",
    "    sigma=np.repeat(sigma,n,axis=0)\n",
    "    \n",
    "    nomi=0.5*pdf_pos*(-(theta-samp)/(sigma**2))+0.5*pdf_neg*(-(theta+samp)/(sigma**2))\n",
    "    deno1=(0.5*pdf_pos+0.5*pdf_neg)\n",
    "    #deno2=np.reshape(deno1,(n,1))\n",
    "    deno=np.repeat(deno1,d,axis=1)\n",
    "    res=np.mean(nomi/deno,axis=0)\n",
    "    \n",
    "    return res\n",
    "\n",
    "def dL_sigma_theta(samp,theta,sigma,pdf_pos,pdf_neg):\n",
    "    \"\"\"\n",
    "    dL_sigma*dsigma_theta\n",
    "    theta:mean\n",
    "    nu: precision\n",
    "    \"\"\"\n",
    "    #samp=draw_samp(100,theta_star,sigma_star)\n",
    "    d=np.size(theta)\n",
    "    n=np.shape(samp)[0]\n",
    "    theta=np.repeat(theta,n,axis=0)\n",
    "    sigma=np.repeat(sigma,n,axis=0)\n",
    "    \n",
    "    nomi_pos=-pdf_pos/sigma+pdf_pos*(samp-theta)**2/(sigma**3)\n",
    "    nomi_neg=-pdf_neg/sigma+pdf_neg*(samp+theta)**2/(sigma**3)\n",
    "    nomi=0.5*nomi_pos+0.5*nomi_neg\n",
    "    deno1=(0.5*pdf_pos+0.5*pdf_neg)\n",
    "    deno=np.repeat(deno1,d,axis=1)\n",
    "    \n",
    "    dsigma_theta=-theta/sigma\n",
    "    \n",
    "    res=np.mean(nomi/deno*dsigma_theta,axis=0)\n",
    "    \n",
    "    return res\n",
    "\n",
    "\n"
   ]
  },
  {
   "cell_type": "code",
   "execution_count": 6,
   "metadata": {
    "id": "6xfbJjAbFulo"
   },
   "outputs": [],
   "source": [
    "def adaEGD(iteration,theta0,theta_star,sigma_star,eta,beta,samp):\n",
    "    \n",
    "    theta=theta0\n",
    "    theta_hat=theta\n",
    "    \n",
    "    samp_square_average=np.mean(samp**2,axis=0).reshape(1,np.size(theta0))\n",
    "    \n",
    "    sigma=np.sqrt(samp_square_average-theta**2)\n",
    "    \n",
    "    DIFF_theta=np.array([])\n",
    "    DIFF_sigma=np.array([])\n",
    "    \n",
    "    pdf_pos,pdf_neg=normal_pdfs(samp,theta,sigma)\n",
    "    L1=L(samp,theta,sigma,pdf_pos,pdf_neg)\n",
    "    optimal_iter=-1\n",
    "    \n",
    "    \n",
    "    \n",
    "    for i in tqdm(range(iteration)):\n",
    "        \n",
    "        DIFF_theta=np.append(DIFF_theta,np.linalg.norm(theta-theta_star))\n",
    "        #DIFF_theta=np.append(DIFF_theta,np.linalg.norm(theta-theta_hat))\n",
    "        DIFF_sigma=np.append(DIFF_sigma,np.linalg.norm(sigma-sigma_star))\n",
    "        \n",
    "        \n",
    "        pdf_pos,pdf_neg=normal_pdfs(samp,theta,sigma)\n",
    "        DLN_theta=dL_theta(samp,theta,sigma,pdf_pos,pdf_neg)+dL_sigma_theta(samp,theta,sigma,pdf_pos,pdf_neg)\n",
    "    \n",
    "        theta=theta+eta/(beta**i)*DLN_theta\n",
    "        sigma=np.sqrt(samp_square_average-theta**2)\n",
    "        \n",
    "        L2=L(samp,theta,sigma,pdf_pos,pdf_neg)\n",
    "        \n",
    "        if L2>L1:\n",
    "            theta_hat=theta\n",
    "            L1=L2\n",
    "            optimal_iter=i\n",
    "        \n",
    "    return DIFF_theta, DIFF_sigma,theta_hat,optimal_iter"
   ]
  },
  {
   "cell_type": "code",
   "execution_count": 10,
   "metadata": {
    "id": "_trs6VpxFuof"
   },
   "outputs": [],
   "source": [
    "theta_star=np.array([[0,0,0]])\n",
    "sigma_star=np.array([[1,1,1]])\n",
    "\n",
    "theta_star=np.array([[0,0]])\n",
    "sigma_star=np.array([[1,1]])\n",
    "\n",
    "theta_star=np.array([[0]])\n",
    "sigma_star=np.array([[1]])"
   ]
  },
  {
   "cell_type": "code",
   "execution_count": 11,
   "metadata": {
    "id": "Tuz2MMtkFurX"
   },
   "outputs": [
    {
     "name": "stderr",
     "output_type": "stream",
     "text": [
      " 90%|████████▉ | 10781/12000 [58:00<06:24,  3.17it/s] /Users/cuifuheng/opt/anaconda3/lib/python3.7/site-packages/ipykernel_launcher.py:30: RuntimeWarning: invalid value encountered in sqrt\n",
      " 90%|████████▉ | 10782/12000 [58:01<06:24,  3.17it/s]/Users/cuifuheng/opt/anaconda3/lib/python3.7/site-packages/scipy/stats/_distn_infrastructure.py:1783: RuntimeWarning: invalid value encountered in greater\n",
      "  cond0 = self._argcheck(*args) & (scale > 0)\n",
      "/Users/cuifuheng/opt/anaconda3/lib/python3.7/site-packages/scipy/stats/_distn_infrastructure.py:899: RuntimeWarning: invalid value encountered in greater_equal\n",
      "  return (a <= x) & (x <= b)\n",
      "/Users/cuifuheng/opt/anaconda3/lib/python3.7/site-packages/scipy/stats/_distn_infrastructure.py:899: RuntimeWarning: invalid value encountered in less_equal\n",
      "  return (a <= x) & (x <= b)\n",
      "/Users/cuifuheng/opt/anaconda3/lib/python3.7/site-packages/scipy/stats/_distn_infrastructure.py:1784: RuntimeWarning: invalid value encountered in greater\n",
      "  cond1 = self._support_mask(x, *args) & (scale > 0)\n",
      "100%|██████████| 12000/12000 [1:02:09<00:00,  3.22it/s]\n",
      "100%|██████████| 12000/12000 [1:04:36<00:00,  3.10it/s]\n"
     ]
    },
    {
     "data": {
      "text/plain": [
       "Text(0, 0.5, 'log ||theta-theta*||')"
      ]
     },
     "execution_count": 11,
     "metadata": {},
     "output_type": "execute_result"
    },
    {
     "data": {
      "image/png": "[encoded data removed]",
      "text/plain": [
       "<Figure size 432x288 with 1 Axes>"
      ]
     },
     "metadata": {
      "needs_background": "light"
     },
     "output_type": "display_data"
    }
   ],
   "source": [
    "iteration=12000\n",
    "\n",
    "theta0=np.array([[0.1,0.1,0.1]]) #initial\n",
    "theta0=np.array([[0.1,0.1]]) #initial\n",
    "theta0=np.array([[0.3]]) #initial\n",
    "beta=0.997\n",
    "eta=0.005\n",
    "d=np.size(theta0)\n",
    "\n",
    "n_samp=1000000\n",
    "#n_samp=100\n",
    "\n",
    "seed=2\n",
    "samp=draw_samp(n_samp,theta_star,sigma_star,seed)\n",
    "\n",
    "DIFF_adagrad_theta,DIFF_adagrad_sigma,theta_hat,optimal_iter=adaEGD(iteration,theta0,theta_star,sigma_star,eta,beta,samp)\n",
    "DIFF_GD_theta,DIFF_GD_sigma,theta_hat_GD,optimal_iter_GD=adaEGD(iteration,theta0,theta_star,sigma_star,eta,1,samp)\n",
    "plt.plot(range(iteration), np.log(DIFF_adagrad_theta), label='AdaEGD, eta={eta:.3f},beta={beta:.3f}'.format(eta=eta,beta=beta))\n",
    "plt.plot(range(iteration), np.log(DIFF_GD_theta), label='GD, eta={eta:.3f}'.format(eta=eta))\n",
    "plt.legend()\n",
    "plt.title(\"Model{m: d}, EGD, Dim={dim: d}, n_MC={N_samp: d}\".format(m=M,dim=d,N_samp=n_samp))\n",
    "plt.xlabel('Iteration')\n",
    "plt.ylabel('log ||theta-theta*||')"
   ]
  },
  {
   "cell_type": "code",
   "execution_count": 12,
   "metadata": {},
   "outputs": [],
   "source": [
    "gmm_data = {'DIFF_adagrad_theta':DIFF_adagrad_theta,\n",
    "            'DIFF_adagrad_sigma':DIFF_adagrad_sigma,\n",
    "            'theta_hat':theta_hat,\n",
    "            'optimal_iter':optimal_iter,\n",
    "            'DIFF_GD_theta':DIFF_GD_theta,\n",
    "            'DIFF_GD_sigma':DIFF_GD_sigma,\n",
    "            'theta_hat_GD':theta_hat_GD,\n",
    "            'optimal_iter_GD':optimal_iter_GD,\n",
    "            'theta0':theta0,\n",
    "            'beta':beta,\n",
    "            'eta':eta,\n",
    "            'n_samp':n_samp,\n",
    "            'd':d,\n",
    "            'theta_star':theta_star,\n",
    "            'sigma_star':sigma_star,\n",
    "            'M':M,\n",
    "            \"iteration\":iteration}\n",
    "np.save('./sim_data/M2_iter{}_seed{}_dim{}'.format(iteration,seed,d),gmm_data)"
   ]
  },
  {
   "cell_type": "code",
   "execution_count": null,
   "metadata": {},
   "outputs": [],
   "source": []
  }
 ],
 "metadata": {
  "colab": {
   "name": "Adagrad_GD_M2_high_dim_hetero_faster_using.ipynb",
   "provenance": [],
   "toc_visible": true
  },
  "kernelspec": {
   "display_name": "Python 3",
   "language": "python",
   "name": "python3"
  },
  "language_info": {
   "codemirror_mode": {
    "name": "ipython",
    "version": 3
   },
   "file_extension": ".py",
   "mimetype": "text/x-python",
   "name": "python",
   "nbconvert_exporter": "python",
   "pygments_lexer": "ipython3",
   "version": "3.7.6"
  }
 },
 "nbformat": 4,
 "nbformat_minor": 1
}
